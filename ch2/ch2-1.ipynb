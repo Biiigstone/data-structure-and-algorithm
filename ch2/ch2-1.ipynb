{
 "cells": [
  {
   "cell_type": "code",
   "execution_count": 1,
   "id": "19908c66-90d4-4a8a-b4b9-8654bb6cd168",
   "metadata": {},
   "outputs": [],
   "source": [
    "# Queue\n",
    "# 큐는 먼저 들어간 자료가 먼저 나오는 선입선출(FIFO:First In First Out) 구조입니다.\n",
    "# 스택과 달리 삽입과 삭제 연산이 서로 다른쪽에서 일어나며, 삽입이 일어나는 곳을 rear(후단) 삭제가 일어나는 곳을 전단(front)라고 합니다.\n",
    "# 주로 시간이나 속도 차이를 극복하기 위한 임시 기억 장치(버퍼(buffer))로 사용됩니다.\n",
    "# 스택과 마찬가지로 overflow 또는 underflow 문제가 발생할 수 있으므로, 항상 큐의 상태 검사를 수행한 후 작업을 수행하자.\n",
    "\n",
    "# Quiz\n",
    "# 1. 40, 50\n",
    "# 2. C D E B A \n",
    "# 3. 4번\n",
    "# 5. 3번"
   ]
  },
  {
   "cell_type": "code",
   "execution_count": null,
   "id": "2ded388c-246e-4808-a05f-b6b6be19c4bd",
   "metadata": {},
   "outputs": [],
   "source": []
  }
 ],
 "metadata": {
  "kernelspec": {
   "display_name": "Python 3 (ipykernel)",
   "language": "python",
   "name": "python3"
  },
  "language_info": {
   "codemirror_mode": {
    "name": "ipython",
    "version": 3
   },
   "file_extension": ".py",
   "mimetype": "text/x-python",
   "name": "python",
   "nbconvert_exporter": "python",
   "pygments_lexer": "ipython3",
   "version": "3.11.7"
  }
 },
 "nbformat": 4,
 "nbformat_minor": 5
}
