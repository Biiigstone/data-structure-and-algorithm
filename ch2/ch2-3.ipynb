{
 "cells": [
  {
   "cell_type": "code",
   "execution_count": null,
   "id": "2f204d4b-8d5c-4da6-ac83-22c299a55f4b",
   "metadata": {},
   "outputs": [],
   "source": [
    "# 덱(dequeue)이란 double-ended queueu의 준말로 전단과 후단에서 모두 삽입/삭제가 가능한 큐를 말한다.\n",
    "# 그렇지만 여전히 중간에서 삽입/삭제는 허용하지 않는다.\n",
    "# 덱의 주요 연산은 다음과 같다.\n",
    "# addFront(e) : 전단에 요소 e 추가.\n",
    "# addRear(e) : 후단에 요소 e 추가.\n",
    "# deleteFront() : 덱의 전단 요소를 꺼내서 반환.\n",
    "# deleteRear() : 덱의 후단 요소를 꺼내서 반환.\n",
    "# getFront() : 덱의 전단 요소를 삭제하지 않고 반환.\n",
    "# getRear() : 덱의 후단 요소를 삭제하지 않고 반환."
   ]
  }
 ],
 "metadata": {
  "kernelspec": {
   "display_name": "Python 3 (ipykernel)",
   "language": "python",
   "name": "python3"
  },
  "language_info": {
   "codemirror_mode": {
    "name": "ipython",
    "version": 3
   },
   "file_extension": ".py",
   "mimetype": "text/x-python",
   "name": "python",
   "nbconvert_exporter": "python",
   "pygments_lexer": "ipython3",
   "version": "3.11.7"
  }
 },
 "nbformat": 4,
 "nbformat_minor": 5
}
