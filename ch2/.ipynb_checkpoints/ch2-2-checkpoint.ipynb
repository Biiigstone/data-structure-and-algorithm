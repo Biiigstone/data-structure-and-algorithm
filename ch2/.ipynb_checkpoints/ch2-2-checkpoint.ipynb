{
 "cells": [
  {
   "cell_type": "code",
   "execution_count": 1,
   "id": "760a6ff2-e695-4843-9caf-9235b823c578",
   "metadata": {},
   "outputs": [],
   "source": [
    "# 배열로 구현하는 큐\n",
    "# 큐도 배열 구조와 연결된(linked)구조로 구현할 수 있는데, 먼저 배열 구조를 이용하여 구현해보겠습니다."
   ]
  },
  {
   "cell_type": "code",
   "execution_count": 2,
   "id": "e64e3399-01a1-43f5-a0e8-b724443d34fc",
   "metadata": {},
   "outputs": [],
   "source": [
    "# 배열 구조의 큐를 위한 데이터\n",
    "# - array[] : 요소를 저장할 배열\n",
    "# - capacity : 큐에 저장할 수 있는 요소의 최대 개수\n",
    "# - rear : 맨 마지막(후단) 요소의 위치(인덱스)\n",
    "# - front : 첫 번째(전단) 요소 바로 앞의 위치\n",
    "# enqueue(삽입 연산) : rear를 하나 증가시킨 후 그 자리에 새로운 요소를 넣는다.\n",
    "# dequeue(삭제 연산) : front를 하나 증가시킨 후 그 자리의 요소를 반환."
   ]
  },
  {
   "cell_type": "code",
   "execution_count": 3,
   "id": "eb011386-4478-4ecc-a37c-389b9de528b2",
   "metadata": {},
   "outputs": [],
   "source": [
    "# 선형 큐(linear Queue)의 문제점과 원형 큐(circular queue)의 원리\n",
    "# 선형 큐는 동작의 이해는 쉬우나 삽입/삭제 과정에서 요소들의 이동이 필요하므로 효율적이지 않다.\n",
    "# 이러한 선형 큐의 문제를 해결할 수 있는 것이 원형 큐이다.\n",
    "# 인덱스 front와 rear를 원형으로 회전시켜 구현할 수 있다.\n",
    "# 즉, 특정 인덱스를 앞과 뒤로 정하는 것이 아니라 앞과 뒤를 정하는 인덱스를 이동시키며 유동적으로 전단 후단을 설정하는 방식이다.\n",
    "# 물론 인덱스는 capacity 이상이 될 수 없으므로 이에 따른 처리도 해주어야 하는데, 이는 if문이나 모듈러 연산으로 할 수 있따.\n",
    "# front = (front+1) % capacity\n",
    "# rear = (rear+1) % capacity\n",
    "# capacity가 5인 경우 front와 rear는 1씩 증가하다 4까지 증가한 후 0이 될 것이다."
   ]
  },
  {
   "cell_type": "code",
   "execution_count": 10,
   "id": "7b35d2b3-0ad1-4e5c-b617-ded43debb4b7",
   "metadata": {},
   "outputs": [],
   "source": [
    "# 원형 큐의 구현\n",
    "class ArrayQueue:\n",
    "    def __init__(self, capacity=10):\n",
    "        self.capacity = capacity\n",
    "        self.array = [None] * self.capacity\n",
    "        self.front = 0\n",
    "        self.rear = 0\n",
    "\n",
    "    def isFull(self):\n",
    "    # 포화 상태를 검사하는 연산.\n",
    "    # 요소로 가득 차 front==rear인 상황이 포화일까? 이는 공백 상태와 구분이 되지 않는다.\n",
    "    # 따라서 원형 큐는 보통 하나의 자리를 비워두는 전략을 사용한다.\n",
    "    # 즉, front가 rear 바로 다음 요소를 가리킬 경우 포화 상태라 할 수 있다.\n",
    "    # 회전하는 성질까지 고려했을 때 front == (rear+1) % capcity가 포화 상태라 할 수 있다.\n",
    "        return self.front == (self.rear+1)%self.capacity\n",
    "        \n",
    "    def isEmpty(self):\n",
    "    # 공백 상태를 검사하는 연산.\n",
    "    # 공백 상태는 front == rear인 경우이다. 이들이 0이 될 필요는 없다. 같은 곳을 가리키면 공백 상태.\n",
    "        return self.front == self.rear\n",
    "\n",
    "    def enqueue(self, e):\n",
    "    # 요소를 삽입하는 연산.\n",
    "    # 후단 rear를 시계 방향으로 한 칸 회전시키고, 그 위치에 새로운 요소 e를 추가합니다.\n",
    "    # 이때 포화 상태가 아니어야 합니다.\n",
    "        if self.isFull() :\n",
    "            print('overflow')\n",
    "            return\n",
    "        self.rear = (self.rear + 1) % self.capacity\n",
    "        self.array[self.rear] = e\n",
    "\n",
    "    def dequeue(self):\n",
    "    # 맨 앞의 요소를 추출하는 연산.\n",
    "    # 큐가 공백이 아니라면 front를 시계 방향으로 한 칸 회전시키고 그 위치의 요소를 반환.\n",
    "        if self.isEmpty() :\n",
    "            print('underflow')\n",
    "            return\n",
    "        self.front = (self.front + 1) % self.capacity\n",
    "        e = self.array[self.front]\n",
    "        return e\n",
    "\n",
    "    def peek(self):\n",
    "    # 맨 앞의 요소를 확인하는 연산\n",
    "    # front를 시계 방향으로 한 칸 회전시킨 위치의 요소를 반환.\n",
    "    # 이때 front 자체는 변하지 않음에 유의.\n",
    "        if self.isEmpty():\n",
    "            print('underflow')\n",
    "            return\n",
    "        return self.array[(self.front+1)%self.capacity]\n",
    "\n",
    "    def size(self):\n",
    "    # 전체 요소의 수를 구하는 연산\n",
    "    # len()으로 구현할 수 없음..\n",
    "    # front와 rear 사이가 힌트가 될 것 같은데..\n",
    "    # 기본적으로 rear - front..\n",
    "    # size는 음수가 될 수 없다..\n",
    "    # 만약 rear가 2 front가 3인 상황이라면?\n",
    "    # rear - front = -1.. 그러나 실제로 객체는 4개 있음..\n",
    "        return (self.rear - self.front + self.capacity) % self.capacity\n",
    "\n",
    "    def display(self):\n",
    "        max_iter = self.size()\n",
    "        idx = self.front\n",
    "        for _ in range(max_iter):\n",
    "            idx = (idx + 1) % self.capacity\n",
    "            print(self.array[idx], end=',')\n",
    "\n",
    "\n",
    "    def enqueue2(self, e):\n",
    "    # 링 버퍼를 위한 enqueue2\n",
    "        self.rear = (self.rear + 1) % self.capacity\n",
    "        self.array[self.rear] = e\n",
    "        if self.isEmpty(): # 삽입 후가 공백이면 오류 상태. front를 회전시켜 가장 오래된 요소를 제거.\n",
    "            self.front = (self.front + 1) % self.capacity\n",
    "        "
   ]
  },
  {
   "cell_type": "code",
   "execution_count": 6,
   "id": "9678031b-fac8-4c4b-9676-340a515689ae",
   "metadata": {},
   "outputs": [],
   "source": [
    "import random\n",
    "\n",
    "q=ArrayQueue(8)\n",
    "q.display()"
   ]
  },
  {
   "cell_type": "code",
   "execution_count": 7,
   "id": "213001a8-17e1-4de0-887f-779d141b5699",
   "metadata": {},
   "outputs": [
    {
     "name": "stdout",
     "output_type": "stream",
     "text": [
      "27,33,8,4,20,80,46,"
     ]
    }
   ],
   "source": [
    "while not q.isFull():\n",
    "    q.enqueue(random.randint(0,100))\n",
    "q.display()"
   ]
  },
  {
   "cell_type": "code",
   "execution_count": 8,
   "id": "f5422a90-1e1d-4157-9e3e-b2c983036c88",
   "metadata": {},
   "outputs": [
    {
     "name": "stdout",
     "output_type": "stream",
     "text": [
      "27 33 8 4 20 80 46 "
     ]
    }
   ],
   "source": [
    "while not q.isEmpty():\n",
    "    print(q.dequeue(), end=' ')"
   ]
  },
  {
   "cell_type": "code",
   "execution_count": null,
   "id": "8a00f79f-9f97-42e2-9f3f-b775d62f1eb7",
   "metadata": {},
   "outputs": [],
   "source": [
    "# 원형 큐를 링 버퍼로 사용하기\n",
    "# 원형 큐는 오래된 자료를 버리고 최근의 자료를 유지하는 용도로도 사용할 수 있습니다.\n",
    "# 가령 최대 7개의 요소를 저장할 수 있는 원형 큐에 7개 이상의 자료들이 입력되면, 가장 최근에 들어온 7개만 저장하고 이전 데이터는 버리는 것입니다.\n",
    "# 이러한 원형 큐를 링 버퍼라고 합니다.\n",
    "# 가장 오래된 데이터를 삭제하여 큐를 계속 포화 상태로 유지하는 것"
   ]
  },
  {
   "cell_type": "code",
   "execution_count": 14,
   "id": "a08a0dc7-5748-4074-a987-ad53bf8201fb",
   "metadata": {},
   "outputs": [
    {
     "name": "stdout",
     "output_type": "stream",
     "text": [
      "\n",
      "0,1,2,3,4,5,\n",
      "1,2,3,4,5,6,7,\n",
      "3,4,5,6,7,8,9,\n",
      "5,6,7,8,9,"
     ]
    }
   ],
   "source": [
    "# 링 버퍼 테스트\n",
    "\n",
    "q = ArrayQueue(8)\n",
    "q.display()\n",
    "print()\n",
    "for i in range(6) :\n",
    "    q.enqueue2(i)\n",
    "q.display()\n",
    "print()\n",
    "\n",
    "q.enqueue2(6); q.enqueue2(7)\n",
    "\n",
    "q.display()\n",
    "print()\n",
    "\n",
    "q.enqueue2(8); q.enqueue2(9)\n",
    "q.display()\n",
    "print()\n",
    "\n",
    "q.dequeue(); q.dequeue()\n",
    "q.display()"
   ]
  },
  {
   "cell_type": "code",
   "execution_count": 15,
   "id": "d806bc20-f2a3-45d6-9035-d2d4ef351f29",
   "metadata": {},
   "outputs": [],
   "source": [
    "# Quiz\n",
    "# 1. 원형 큐에서 공백 상태는 front==rear 이고, 포화 상태는 rear가 front 바로 앞의 요소를 가리키는 상황(front == (rear+1) % capcity) 입니다.\n",
    "# 2. capacity=8, front=6, rear=6일 때, enqueue(10), enqueue(11), enqueue(12), enqueue(13), dequeue(), dequeue() 후의 front와 rear는 각각 얼마인가요?\n",
    "# => fr 0, re 2\n",
    "# 3. capacity=8인 원형 큐를 링 버퍼로 사용하는 경우, 공백 상태의 큐에 range(1,21)를 순서대로 삽입(enqueue2)했다면 큐에 남은 요소는 무엇일까요\n",
    "# 14~20\n"
   ]
  },
  {
   "cell_type": "code",
   "execution_count": 17,
   "id": "62010445-488a-4682-a3c3-37fce73d4904",
   "metadata": {},
   "outputs": [
    {
     "name": "stdout",
     "output_type": "stream",
     "text": [
      "1\n",
      "2\n",
      "3\n",
      "4\n",
      "5\n",
      "6\n",
      "7\n",
      "8\n",
      "9\n",
      "10\n",
      "11\n",
      "12\n",
      "13\n",
      "14\n",
      "15\n",
      "16\n",
      "17\n",
      "18\n",
      "19\n",
      "20\n",
      "14,15,16,17,18,19,20,"
     ]
    }
   ],
   "source": [
    "t = ArrayQueue(8)\n",
    "\n",
    "for i in range(1,21):\n",
    "    print(i)\n",
    "    t.enqueue2(i)\n",
    "\n",
    "t.display()"
   ]
  },
  {
   "cell_type": "code",
   "execution_count": 18,
   "id": "10ca8a41-cd65-4b0f-9933-9ab90dc2d89d",
   "metadata": {},
   "outputs": [
    {
     "name": "stdout",
     "output_type": "stream",
     "text": [
      "[13, 14, 15, 16, 17, 18, 19, 20]\n"
     ]
    }
   ],
   "source": [
    "def ring_buffer(capacity, data):\n",
    "  \"\"\"\n",
    "  링 버퍼 작동 방식을 시뮬레이션하는 함수\n",
    "\n",
    "  Args:\n",
    "    capacity: 링 버퍼 용량\n",
    "    data: 삽입할 데이터\n",
    "\n",
    "  Returns:\n",
    "    링 버퍼에 남은 데이터\n",
    "  \"\"\"\n",
    "\n",
    "  buffer = []\n",
    "  for item in data:\n",
    "    if len(buffer) == capacity:\n",
    "      # 가장 오래된 데이터를 덮어쓰기\n",
    "      buffer.pop(0)\n",
    "    buffer.append(item)\n",
    "\n",
    "  return buffer\n",
    "\n",
    "# 링 버퍼 용량 설정\n",
    "capacity = 8\n",
    "\n",
    "# 삽입할 데이터\n",
    "data = list(range(1, 21))\n",
    "\n",
    "# 링 버퍼 시뮬레이션\n",
    "remaining_data = ring_buffer(capacity, data)\n",
    "\n",
    "# 결과 출력\n",
    "print(remaining_data)"
   ]
  },
  {
   "cell_type": "code",
   "execution_count": null,
   "id": "a33ab796-9775-41dd-8fd9-a71854eb4e6d",
   "metadata": {},
   "outputs": [],
   "source": []
  }
 ],
 "metadata": {
  "kernelspec": {
   "display_name": "Python 3 (ipykernel)",
   "language": "python",
   "name": "python3"
  },
  "language_info": {
   "codemirror_mode": {
    "name": "ipython",
    "version": 3
   },
   "file_extension": ".py",
   "mimetype": "text/x-python",
   "name": "python",
   "nbconvert_exporter": "python",
   "pygments_lexer": "ipython3",
   "version": "3.11.7"
  }
 },
 "nbformat": 4,
 "nbformat_minor": 5
}
