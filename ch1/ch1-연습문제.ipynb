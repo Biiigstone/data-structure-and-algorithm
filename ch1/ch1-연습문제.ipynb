{
 "cells": [
  {
   "cell_type": "code",
   "execution_count": 1,
   "id": "0e83ed9d-96bf-4a93-9c1f-e372075af3a6",
   "metadata": {},
   "outputs": [],
   "source": [
    "# 연습문제\n",
    "# 1. 스택에 A B C D를 순서대로 입력해서 B C D A 같은 출력을 얻으려면 push()와 pop()의 호출 순서가 어떻게 되어야 할까요?\n",
    "# push(A) push(B) pop() -> B\n",
    "# push(C) pop() -> B C\n",
    "# push(D) pop() -> B C D \n",
    "# pop() -> B C D A"
   ]
  },
  {
   "cell_type": "code",
   "execution_count": 32,
   "id": "050c86e1-3ee9-40fe-a91e-3c299264342c",
   "metadata": {},
   "outputs": [],
   "source": [
    "# 2. 스택 클래스에 스택을 공백 상태로 초기화시키는 clear() 연산을 추가해보세요.\n",
    "# 3. 스택 클래스에 모든 요소를 가장 먼저 들어온 요소부터 순서대로 출력하는 display()연산을 추가해보세요.\n",
    "class ArrayStack :\n",
    "    def __init__(self, capacity):\n",
    "        self.capacity = capacity\n",
    "        self.array = [None] * self.capacity\n",
    "        self.top = -1\n",
    "\n",
    "    def __str__(self):\n",
    "        print(self.array)\n",
    "    \n",
    "    def isEmpty(self):\n",
    "        if self.top == -1 :\n",
    "            return True\n",
    "        else :\n",
    "            return False\n",
    "\n",
    "    def isFull(self):\n",
    "        return self.top == self.capacity -1\n",
    "\n",
    "    def push(self, e):\n",
    "        if not self.isFull():\n",
    "            self.top += 1\n",
    "            self.array[self.top] = e\n",
    "        else:\n",
    "            print(\"stack overflow\")\n",
    "            exit()\n",
    "            \n",
    "    def pop(self):\n",
    "        if not self.isEmpty():\n",
    "            self.top -= 1\n",
    "            elem = self.array[self.top+1]\n",
    "            del self.array[self.top+1]\n",
    "            return elem\n",
    "        else :\n",
    "            print(\"stack underflow\")\n",
    "            return None\n",
    "    \n",
    "    def peek(self):\n",
    "        if not self.isEmpty():\n",
    "            return self.array[self.top]\n",
    "        else:\n",
    "            print(\"SU\")\n",
    "            exit()\n",
    "    \n",
    "    def size(self):\n",
    "        return self.top+1\n",
    "\n",
    "    def clear(self):\n",
    "        if self.top == -1:\n",
    "            return\n",
    "        else:\n",
    "            self.pop()\n",
    "            #print(self.top)\n",
    "            self.clear()\n",
    "            return\n",
    "\n",
    "    def display(self):\n",
    "        for i in range(self.top+1):\n",
    "            print(self.array[i], end='')\n",
    "        return\n",
    "        "
   ]
  },
  {
   "cell_type": "code",
   "execution_count": 36,
   "id": "c13d1c3f-21d6-4b7f-bc9c-c1199ece1d34",
   "metadata": {},
   "outputs": [
    {
     "name": "stdout",
     "output_type": "stream",
     "text": [
      "[0, 1, 2, 3, 4, 5, 6, 7, 8, 9]\n"
     ]
    },
    {
     "ename": "TypeError",
     "evalue": "__str__ returned non-string (type NoneType)",
     "output_type": "error",
     "traceback": [
      "\u001b[0;31m---------------------------------------------------------------------------\u001b[0m",
      "\u001b[0;31mTypeError\u001b[0m                                 Traceback (most recent call last)",
      "Cell \u001b[0;32mIn[36], line 4\u001b[0m\n\u001b[1;32m      2\u001b[0m \u001b[38;5;28;01mfor\u001b[39;00m i \u001b[38;5;129;01min\u001b[39;00m \u001b[38;5;28mrange\u001b[39m(\u001b[38;5;241m10\u001b[39m):\n\u001b[1;32m      3\u001b[0m     s\u001b[38;5;241m.\u001b[39mpush(i)\n\u001b[0;32m----> 4\u001b[0m \u001b[38;5;28mprint\u001b[39m(s)\n",
      "\u001b[0;31mTypeError\u001b[0m: __str__ returned non-string (type NoneType)"
     ]
    }
   ],
   "source": [
    "s = ArrayStack(10)\n",
    "for i in range(10):\n",
    "    s.push(i)\n",
    "print(s)"
   ]
  },
  {
   "cell_type": "code",
   "execution_count": 37,
   "id": "b50a74c4-efaa-4716-ab41-ad6c71adb69e",
   "metadata": {},
   "outputs": [
    {
     "name": "stdout",
     "output_type": "stream",
     "text": [
      "0123456789"
     ]
    }
   ],
   "source": [
    "s.display()"
   ]
  },
  {
   "cell_type": "code",
   "execution_count": 38,
   "id": "32718dfd-f6ae-4aa1-a58d-f47dd3ec8ef1",
   "metadata": {},
   "outputs": [],
   "source": [
    "s.clear()\n",
    "s.display()"
   ]
  },
  {
   "cell_type": "code",
   "execution_count": 39,
   "id": "2327dcd8-0823-4477-9ea6-437a42eab883",
   "metadata": {
    "scrolled": true
   },
   "outputs": [
    {
     "name": "stdout",
     "output_type": "stream",
     "text": [
      "[]\n"
     ]
    },
    {
     "ename": "TypeError",
     "evalue": "__str__ returned non-string (type NoneType)",
     "output_type": "error",
     "traceback": [
      "\u001b[0;31m---------------------------------------------------------------------------\u001b[0m",
      "\u001b[0;31mTypeError\u001b[0m                                 Traceback (most recent call last)",
      "Cell \u001b[0;32mIn[39], line 1\u001b[0m\n\u001b[0;32m----> 1\u001b[0m \u001b[38;5;28mprint\u001b[39m(s)\n",
      "\u001b[0;31mTypeError\u001b[0m: __str__ returned non-string (type NoneType)"
     ]
    }
   ],
   "source": [
    "print(s)"
   ]
  },
  {
   "cell_type": "code",
   "execution_count": 40,
   "id": "68b7019b-194e-4260-aad4-efef5cc3b2f3",
   "metadata": {},
   "outputs": [],
   "source": [
    "# 4. checkBrakets()로 다음 문자열의 괄호 사용을 검사하려고 합니다. 알고리즘을 추적하여 각 단계에서 스택의 내용이 변경되는 것을 그려서 셜명해보세요.\n",
    "# 1) for (i=1; i<10; i++) a[i] = a[(i+1)];\n",
    "# 첫 (에서 스택에 '(' push(). 첫 )에서 pop() 후 나온 결과물과 짝이 맞는 괄호인지 비교. 짝이 맞으므로 넘어감.\n",
    "# 첫 [에서 스택에 '[' push(). 첫 ]에서 pop() 후 나온 결과물과 짝이 맞는 괄호인지 비교. 짝이 맞으므로 넘어감.\n",
    "# 두 번째 [에서 스택에 '[' push(). 두 번째 (에서 스택에 '(' push(). 이후 두 번째 )에서 pop(). 스택 최상단 요소는 '('. 이와 비교 및 짝이 맞으므로 넘어감.\n",
    "# 스택에 남은 요소는 '['. 두 번째 ]에서 pop(). 이와 비교 및 짝이 맞으므로 넘어감.\n",
    "# 스택에 아무것도 남지 않았는지 확인. 아무것도 남지 않았으므로 오류 없음.\n",
    "# 2) a { b [ (c + d ) - e ] * f}\n",
    "# pass.."
   ]
  },
  {
   "cell_type": "code",
   "execution_count": 50,
   "id": "23c74803-ffd2-4ad6-a5e4-c77c1a00a2af",
   "metadata": {},
   "outputs": [
    {
     "name": "stdout",
     "output_type": "stream",
     "text": [
      "18\n",
      "12\n",
      "9\n",
      "0\n"
     ]
    },
    {
     "ename": "KeyboardInterrupt",
     "evalue": "",
     "output_type": "error",
     "traceback": [
      "\u001b[0;31m---------------------------------------------------------------------------\u001b[0m",
      "\u001b[0;31mKeyboardInterrupt\u001b[0m                         Traceback (most recent call last)",
      "Cell \u001b[0;32mIn[50], line 28\u001b[0m\n\u001b[1;32m     25\u001b[0m         v\u001b[38;5;241m.\u001b[39mget()\n\u001b[1;32m     27\u001b[0m \u001b[38;5;28;01mwhile\u001b[39;00m v\u001b[38;5;241m.\u001b[39mnot_empty:\n\u001b[0;32m---> 28\u001b[0m     \u001b[38;5;28mprint\u001b[39m(v\u001b[38;5;241m.\u001b[39mget())\n",
      "File \u001b[0;32m~/anaconda3/lib/python3.11/queue.py:171\u001b[0m, in \u001b[0;36mQueue.get\u001b[0;34m(self, block, timeout)\u001b[0m\n\u001b[1;32m    169\u001b[0m \u001b[38;5;28;01melif\u001b[39;00m timeout \u001b[38;5;129;01mis\u001b[39;00m \u001b[38;5;28;01mNone\u001b[39;00m:\n\u001b[1;32m    170\u001b[0m     \u001b[38;5;28;01mwhile\u001b[39;00m \u001b[38;5;129;01mnot\u001b[39;00m \u001b[38;5;28mself\u001b[39m\u001b[38;5;241m.\u001b[39m_qsize():\n\u001b[0;32m--> 171\u001b[0m         \u001b[38;5;28mself\u001b[39m\u001b[38;5;241m.\u001b[39mnot_empty\u001b[38;5;241m.\u001b[39mwait()\n\u001b[1;32m    172\u001b[0m \u001b[38;5;28;01melif\u001b[39;00m timeout \u001b[38;5;241m<\u001b[39m \u001b[38;5;241m0\u001b[39m:\n\u001b[1;32m    173\u001b[0m     \u001b[38;5;28;01mraise\u001b[39;00m \u001b[38;5;167;01mValueError\u001b[39;00m(\u001b[38;5;124m\"\u001b[39m\u001b[38;5;124m'\u001b[39m\u001b[38;5;124mtimeout\u001b[39m\u001b[38;5;124m'\u001b[39m\u001b[38;5;124m must be a non-negative number\u001b[39m\u001b[38;5;124m\"\u001b[39m)\n",
      "File \u001b[0;32m~/anaconda3/lib/python3.11/threading.py:327\u001b[0m, in \u001b[0;36mCondition.wait\u001b[0;34m(self, timeout)\u001b[0m\n\u001b[1;32m    325\u001b[0m \u001b[38;5;28;01mtry\u001b[39;00m:    \u001b[38;5;66;03m# restore state no matter what (e.g., KeyboardInterrupt)\u001b[39;00m\n\u001b[1;32m    326\u001b[0m     \u001b[38;5;28;01mif\u001b[39;00m timeout \u001b[38;5;129;01mis\u001b[39;00m \u001b[38;5;28;01mNone\u001b[39;00m:\n\u001b[0;32m--> 327\u001b[0m         waiter\u001b[38;5;241m.\u001b[39macquire()\n\u001b[1;32m    328\u001b[0m         gotit \u001b[38;5;241m=\u001b[39m \u001b[38;5;28;01mTrue\u001b[39;00m\n\u001b[1;32m    329\u001b[0m     \u001b[38;5;28;01melse\u001b[39;00m:\n",
      "\u001b[0;31mKeyboardInterrupt\u001b[0m: "
     ]
    }
   ],
   "source": [
    "# 5. 다음 코드의 연산 결과 스택에 남아 있는 내용을 순서대로 적어보세요.\n",
    "'''\n",
    "v = Stack()\n",
    "for i in range(20):\n",
    "    if i % 3 == 0:\n",
    "        v.push(i)\n",
    "    elif i % 4 == 0:\n",
    "        v.pop()\n",
    "\n",
    "%(모듈러스)연산자는 좌항을 우항으로 나눈 나머지를 반환하는 연산자이다.\n",
    "따라서 첫 if절은 i를 3으로 나누었을 때 나머지가 0 즉, 3의 배수인지 확인하는 조건문이며\n",
    "elif절은 i를 4로 나누었을 떄 나머지가 0 즉, 4의 배수인지 확인하는 조건문이다.\n",
    "range(20)객체는 0~19가 있다.\n",
    "if문의 조건에 해당되는 수는 0 3 6 9 12 15 18이다.\n",
    "elif문의 조건에 해당되는 수는 0 4 8 12 16이다.\n",
    "조건문이 if와 elif 임을 주의하자. \n",
    "0은 스택에 추가되고, 34 68은 각각 짝을 이루어 push pop을 하므로 스택에 남지 않는다.\n",
    "9는 스택에 추가되고 남아있으며, 12가 push되는데 elif문이므로 pop되지 않는다.\n",
    "15는 16과 짝을 이루어 남지 않으며 18이 스택에 추가된다.\n",
    "최종적으로 0 9 12 18이 남는다.\n",
    "'''\n",
    "# 실제 코드로 확인\n",
    "import queue\n",
    "v = queue.LifoQueue()\n",
    "for i in range(20):\n",
    "    if i % 3 == 0:\n",
    "        v.put(i)\n",
    "    elif i % 4 == 0:\n",
    "        v.get()\n",
    "\n",
    "while v.not_empty:\n",
    "    print(v.get())"
   ]
  },
  {
   "cell_type": "code",
   "execution_count": 54,
   "id": "e6e2a2a7-604b-46bc-81c0-38cede01d443",
   "metadata": {},
   "outputs": [
    {
     "name": "stdout",
     "output_type": "stream",
     "text": [
      "히이레를요세하녕안\n"
     ]
    }
   ],
   "source": [
    "# 6. 코드 1.3과 같은 문자열을 뒤집어 출력하는 프로그램을 순환 호출을 이용해 구현해보세요.\n",
    "# 순환 호출은 시스템 스택을 이용하므로 코드 1.3과 같이 추가적인 스택을 사용할 필요는 없지만,\n",
    "# 순환 호출 함수를 하나 만들어야 합니다. 다음 코드를 완성해서 텍스트인 '자료구조'가 뒤집혀 '조구료자'로 출력되도록 해 봅시다.\n",
    "\n",
    "def printReverse(msg, len):\n",
    "    # 순환 호출 시 문제의 크기가 줄어들어야 한다.\n",
    "    # 종료 지점이 반드시 있어야 한다.\n",
    "    # 문제의 크기는? msg의 길이.\n",
    "    \n",
    "    if len-1 == 0: # 종료조건\n",
    "        print(msg[len-1])\n",
    "        return\n",
    "    else : \n",
    "        print(msg[len-1], end='')\n",
    "        printReverse(msg, len-1)\n",
    "\n",
    "instr = '안녕하세요를레이히'\n",
    "printReverse(instr, len(instr))"
   ]
  },
  {
   "cell_type": "code",
   "execution_count": 57,
   "id": "e916d3ce-dc5a-4707-a6dc-18204d2d01d1",
   "metadata": {},
   "outputs": [],
   "source": [
    "# 답안\n",
    "def printReverse(msg, len) :\n",
    "    if len > 0 :\n",
    "        print(msg[len-1], end='')\n",
    "        printReverse(msg, len-1)"
   ]
  },
  {
   "cell_type": "code",
   "execution_count": 58,
   "id": "7a8cc9c9-d563-4697-9949-2365d70a8061",
   "metadata": {},
   "outputs": [
    {
     "name": "stdout",
     "output_type": "stream",
     "text": [
      "히이레를요세하녕안"
     ]
    }
   ],
   "source": [
    "instr = '안녕하세요를레이히'\n",
    "printReverse(instr, len(instr))"
   ]
  },
  {
   "cell_type": "code",
   "execution_count": null,
   "id": "62dc01e4-01a1-46b0-8c67-360b6431b5fc",
   "metadata": {},
   "outputs": [],
   "source": []
  }
 ],
 "metadata": {
  "kernelspec": {
   "display_name": "Python 3 (ipykernel)",
   "language": "python",
   "name": "python3"
  },
  "language_info": {
   "codemirror_mode": {
    "name": "ipython",
    "version": 3
   },
   "file_extension": ".py",
   "mimetype": "text/x-python",
   "name": "python",
   "nbconvert_exporter": "python",
   "pygments_lexer": "ipython3",
   "version": "3.11.7"
  }
 },
 "nbformat": 4,
 "nbformat_minor": 5
}
