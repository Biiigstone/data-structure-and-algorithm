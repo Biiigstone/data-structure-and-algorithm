{
 "cells": [
  {
   "cell_type": "code",
   "execution_count": 6,
   "id": "d081dded-e3e2-4ca2-91e0-b4def2bd502f",
   "metadata": {},
   "outputs": [
    {
     "name": "stdin",
     "output_type": "stream",
     "text": [
      "입력 : 안녕하세요.\n"
     ]
    },
    {
     "name": "stdout",
     "output_type": "stream",
     "text": [
      ".요세하녕안"
     ]
    }
   ],
   "source": [
    "# 파이썬에서 스택 사용하기\n",
    "\n",
    "# 1. 리스트를 스택으로 사용하기\n",
    "# 리스트의 앞이나 뒤를 스택의 상단으로 생각하고 한 쪽으로만 자료를 추가/삭제 하는 것.\n",
    "# 뒤쪽을 상단으로 사용하는 것이 효율적이다.\n",
    "\n",
    "# 문자열 역순 출력 예제를 파이썬 리스트로 구현해보자.\n",
    "\n",
    "# 보기 전에 스스로.\n",
    "msg = input('입력 :')\n",
    "s = [s for s in msg]\n",
    "\n",
    "while not (len(s)==0) :\n",
    "    c = s.pop()\n",
    "    print(c, end='')\n"
   ]
  },
  {
   "cell_type": "code",
   "execution_count": 5,
   "id": "7a01a704-164a-4b34-9309-b1425057cc51",
   "metadata": {},
   "outputs": [
    {
     "name": "stdin",
     "output_type": "stream",
     "text": [
      "입력 :  안녕하세요.\n"
     ]
    },
    {
     "name": "stdout",
     "output_type": "stream",
     "text": [
      "문자열 출력\n",
      ".요세하녕안\n"
     ]
    }
   ],
   "source": [
    "# 답지.\n",
    "s = list()\n",
    "msg = input('입력 : ')\n",
    "for c in msg:\n",
    "    s.append(c)\n",
    "\n",
    "print('문자열 출력')\n",
    "while len(s) > 0:\n",
    "    print(s.pop(), end='')\n",
    "print()\n",
    "\n"
   ]
  },
  {
   "cell_type": "code",
   "execution_count": 7,
   "id": "69159bb5-71da-4b1b-9e1a-b1ec5a545d29",
   "metadata": {},
   "outputs": [
    {
     "name": "stdin",
     "output_type": "stream",
     "text": [
      " 안녕하세요.\n"
     ]
    },
    {
     "name": "stdout",
     "output_type": "stream",
     "text": [
      ".요세하녕안"
     ]
    }
   ],
   "source": [
    "# queue 모듈의 LifoQueue 사용하기\n",
    "# 파이썬의 queue 모듈은 Queue나 stack, PriorityQueue 등을 클래스로 제공한다.\n",
    "# 파이썬에서 stack은 LifoQueue로 알려져있다.\n",
    "# push는 put(), pop은 get().\n",
    "# isEmpty는 empty(), isFull은 full()이다.\n",
    "# peek은 구현되어 있지 않다.\n",
    "\n",
    "import queue\n",
    "\n",
    "stack1 = queue.LifoQueue(maxsize=20)\n",
    "\n",
    "msg = input()\n",
    "for c in msg:\n",
    "    stack1.put(c)\n",
    "\n",
    "while not stack1.empty():\n",
    "    print(stack1.get(), end='')"
   ]
  },
  {
   "cell_type": "code",
   "execution_count": null,
   "id": "e4e6b5c9-1ce5-41d1-85fe-243b3f0dbc23",
   "metadata": {},
   "outputs": [],
   "source": [
    "# 1-4 Quiz\n",
    "# 만약 파이썬의 리스트를 스택으로 사용할 때, 리스트 맨 앞을 스택 상단으로 사용한다면 삽입과 삭제 연산은 어떻게 바뀌어야 할까요?\n",
    "# => 삽입은 요소들의 복사, 이동, 붙여넣기 과정이 추가되어야 할 것이다. \n",
    "# 새로운 요소를 a라고 했을 때, 이전에 있떤 요소들을 복사, 기존 index+1 위치로 붙여넣기, list[0]에 값 추가.\n",
    "# 삭제 또한 비슷한 과정이다. list[0]을 비우고 이전 값들을 한 칸씩 당긴다.\n",
    "\n",
    "# 또한 이 연산의 효율성은 어떨까요?\n",
    "# 앞에 새로운 값이 추가/삭제되기 위하여 전에 존재하던 모든 요소들이 복사 및 붙여넣기가 이루어져야 하기 때문에 상당히 비효율 적일 것이다.\n"
   ]
  }
 ],
 "metadata": {
  "kernelspec": {
   "display_name": "Python 3 (ipykernel)",
   "language": "python",
   "name": "python3"
  },
  "language_info": {
   "codemirror_mode": {
    "name": "ipython",
    "version": 3
   },
   "file_extension": ".py",
   "mimetype": "text/x-python",
   "name": "python",
   "nbconvert_exporter": "python",
   "pygments_lexer": "ipython3",
   "version": "3.11.7"
  }
 },
 "nbformat": 4,
 "nbformat_minor": 5
}
