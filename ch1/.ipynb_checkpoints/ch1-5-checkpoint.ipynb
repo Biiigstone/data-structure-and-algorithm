{
 "cells": [
  {
   "cell_type": "code",
   "execution_count": 1,
   "id": "bda9d214-8f58-440e-9a57-80040eabe934",
   "metadata": {},
   "outputs": [],
   "source": [
    "# 시스템 스택과 순환 호출\n",
    "# 스택은 운영체제에서도 매우 중요한 역할을 한다.\n",
    "# 운영체제가 관리하는 메모리에는 스택 영역이 있으며 이는 함수의 호출과 반환을 위해 사용된다.\n",
    "# 스택에 함수 호출에 필요한 복귀 주소, 매개변수, 지역변수를 저장해두고 사용하는 것이다.\n",
    "# 이러한 시스템 스택을 적극적으로 활용하는 프로그래밍 기법이 순환(재귀) 호출이다."
   ]
  },
  {
   "cell_type": "code",
   "execution_count": 2,
   "id": "a0868225-5142-485c-bf94-833b2ff89f3a",
   "metadata": {},
   "outputs": [],
   "source": [
    "# 순환(재귀, recursion)란?\n",
    "# 함수가 자기 자신을 다시 호출하여 문제를 해결하는 프로그래밍 기법이다.\n",
    "# 대표적으로 팩토리얼 계산, 하노이 탑 문제가 있으며 이진 트리에서도 사용된다."
   ]
  },
  {
   "cell_type": "code",
   "execution_count": 3,
   "id": "d76f4842-1f7f-43c5-920e-08aa266d00fe",
   "metadata": {},
   "outputs": [],
   "source": [
    "# 팩토리얼 계산\n",
    "# n!은 다음과 같이 정의할 수 있다.\n",
    "# n! = 1x2x3x4x ... x (n-1) x n\n",
    "# 또는 (n-1)! x n로 표현할 수 있다.\n",
    "# n! = 1 (n=1) \n",
    "# n! = n x (n-1)! (n>1)\n"
   ]
  },
  {
   "cell_type": "code",
   "execution_count": 8,
   "id": "baff0f4a-9443-4f9f-a549-ea71fad41f00",
   "metadata": {},
   "outputs": [],
   "source": [
    "# 이러한 정보를 바탕으로 팩토리얼 계산을 구현해보자.\n",
    "# 1. 반복 구조의 팩토리얼 함수.\n",
    "\n",
    "# 답지 보기 전 스스로 구현\n",
    "def fact_iter(n):\n",
    "    sum = 1\n",
    "    for i in range(n):\n",
    "        sum *= i+1\n",
    "    return sum\n",
    "\n",
    "# 답지\n",
    "def factorial_iter(n):\n",
    "    result = 1\n",
    "    for k in range(2, n+1):\n",
    "        result = result * k\n",
    "    return result"
   ]
  },
  {
   "cell_type": "code",
   "execution_count": 10,
   "id": "3b2e504b-22f6-4fe6-a567-c12fcaa6f408",
   "metadata": {},
   "outputs": [
    {
     "name": "stdout",
     "output_type": "stream",
     "text": [
      "120\n"
     ]
    },
    {
     "data": {
      "text/plain": [
       "120"
      ]
     },
     "execution_count": 10,
     "metadata": {},
     "output_type": "execute_result"
    }
   ],
   "source": [
    "print(fact_iter(5))\n",
    "factorial_iter(5)"
   ]
  },
  {
   "cell_type": "code",
   "execution_count": 21,
   "id": "3345029f-efcc-4832-9787-fc5de2503783",
   "metadata": {},
   "outputs": [],
   "source": [
    "# 2. 순환 구조의 팩토리얼 함수.\n",
    "# 답지 보기 전\n",
    "def fact_re(n):\n",
    "    if n==1:\n",
    "        return 1\n",
    "    if n==0:\n",
    "        return 0\n",
    "    if n < 0:\n",
    "        return -1\n",
    "    right = fact_re(n-1)\n",
    "    return n * right\n",
    "\n",
    "# 답지\n",
    "# 수환 함수는 자신을 순환적으로 호출하는 부분과 순환 호출을 멈추는 부분으로 구성됩니다.\n",
    "def factorial(n):\n",
    "    if n==1:\n",
    "        return 1 # 순환 호출을 멈추는 부분. 반드시 존재해야 합니다.\n",
    "    else:\n",
    "        return n * factorial(n-1) # 순환적으로 호출하는 부분. 이 부분에서 문제의 크기는 반드시 작아져야 합니다."
   ]
  },
  {
   "cell_type": "code",
   "execution_count": 22,
   "id": "e1937807-0bbd-4edc-a2b2-b62bc144567a",
   "metadata": {},
   "outputs": [
    {
     "name": "stdout",
     "output_type": "stream",
     "text": [
      "120\n"
     ]
    },
    {
     "data": {
      "text/plain": [
       "120"
      ]
     },
     "execution_count": 22,
     "metadata": {},
     "output_type": "execute_result"
    }
   ],
   "source": [
    "print(fact_re(5))\n",
    "factorial(5)"
   ]
  },
  {
   "cell_type": "code",
   "execution_count": 20,
   "id": "3090e907-b79d-432b-b083-aa32b017bd5f",
   "metadata": {},
   "outputs": [
    {
     "data": {
      "text/plain": [
       "-1"
      ]
     },
     "execution_count": 20,
     "metadata": {},
     "output_type": "execute_result"
    }
   ],
   "source": [
    "fact_re(-110)"
   ]
  },
  {
   "cell_type": "code",
   "execution_count": 23,
   "id": "2093fb3e-59b4-4cb8-9311-a97c4108df81",
   "metadata": {},
   "outputs": [],
   "source": [
    "# 순환함수 대부분은 반복 구조로도 구현할 수 있습니다.\n",
    "# 그렇다면 어떤 것이 더 효율적일까요?\n",
    "# 비교를 위해 각 함수별로 곱셉이 처리되는 횟수를 계산해보겠습니다.\n",
    "# 반복 구조는 for 루프가 n-1번 반복되므로 곱셈은 n-1번 처리됩니다.\n",
    "# 순환 구조는 n==1인 경우 곱셈 없이 바로 1을 반환하므로 n-1번 처리됩니다.\n",
    "# 결국 두 방법에서 곱셈 횟수는 차이가 없습니다. 그\n",
    "# 렇지만 순환은 함수 호출에 의한 부담이 있고, 시스템 스택을 많이 사용하므로 일반적인 경우 반복 구조보다 느립니다.\n",
    "# 반면 반복 함수는 n이 매우 크더라도 추가적인 메모리가 필요하지 않습니다.\n",
    "# 그럼에도 불구하고 순환은 트리 등 특정 문제에 대해 반복보다 훨씬 명확하고 효율적인 코딩이 가능하므로 자주 사용됩니다."
   ]
  },
  {
   "cell_type": "code",
   "execution_count": 24,
   "id": "edad508e-4e89-4cfe-a337-d720a6d0c69c",
   "metadata": {},
   "outputs": [],
   "source": [
    "# 하노이의 탑 문제\n",
    "# 막대 A에 쌓여있는 n개의 원판을 모두 C로 옮기는 문제입니다. 단 다음의 조건을 만족해야 합니다.\n",
    "# 1. 한 번에 하나의 원판만 옮길 수 있습니다.\n",
    "# 2. 맨 위의 원판만 옮길 수 있습니다.\n",
    "# 3. 크기가 작은 원판 위에 큰 원판을 쌓을 수 없습니다.\n",
    "# 4. 중간 막대 B를 임시로 사용할 수 있지만 앞의 조건을 지켜야 합니다."
   ]
  },
  {
   "cell_type": "code",
   "execution_count": 28,
   "id": "69a8c16d-5b7c-42da-912c-a9fcad5ff6de",
   "metadata": {},
   "outputs": [],
   "source": [
    "# 순환 문제를 풀기 위해선, 문제의 크기가 작아져야 한다는 사실을 기억하자.\n",
    "# 하노이의 탑 문제에서 문제의 크기는 무엇일까?\n",
    "# 이동해야 하는 원판의 수가 많을수록 더 많은 시간이 걸리므로, 바로 원판의 수가 문제의 크기이다.\n",
    "\n",
    "def hanoi_tower(n, fr, tmp, to):\n",
    "    '''\n",
    "    n : 원판의 수\n",
    "    fr : 시작 막대\n",
    "    tmp : 임시 막대\n",
    "    to : 목표 막대\n",
    "    '''\n",
    "    if n == 1: # 순환 함수의 종료 조건. 원판이 한 개인 경우 그냥 목표 막대로만 옮기면 된다.\n",
    "        print(f'원판 1: {fr} -> {to}')\n",
    "    else :\n",
    "        hanoi_tower(n-1, fr, to, tmp)\n",
    "        print(f'원판 {n}: {fr} -> {to}')\n",
    "        hanoi_tower(n-1,tmp,fr,to)\n",
    "\n",
    "    "
   ]
  },
  {
   "cell_type": "code",
   "execution_count": 29,
   "id": "1d188e73-c25a-463b-9666-d9da91ba1018",
   "metadata": {},
   "outputs": [
    {
     "name": "stdout",
     "output_type": "stream",
     "text": [
      "원판 1: A -> B\n",
      "원판 2: A -> C\n",
      "원판 1: B -> C\n",
      "원판 3: A -> B\n",
      "원판 1: C -> A\n",
      "원판 2: C -> B\n",
      "원판 1: A -> B\n",
      "원판 4: A -> C\n",
      "원판 1: B -> C\n",
      "원판 2: B -> A\n",
      "원판 1: C -> A\n",
      "원판 3: B -> C\n",
      "원판 1: A -> B\n",
      "원판 2: A -> C\n",
      "원판 1: B -> C\n"
     ]
    }
   ],
   "source": [
    "hanoi_tower(4,'A','B','C')"
   ]
  },
  {
   "cell_type": "code",
   "execution_count": null,
   "id": "029278a7-d62e-401f-b3f2-e257faa9fa5b",
   "metadata": {},
   "outputs": [],
   "source": [
    "# Quiz\n",
    "# 1. 다음 순환 함수의 문제점을 설명하시오\n",
    "# => 순환할수록 문제의 크기가 작아져야 하는데 작아지지 않는다. 따라서 무한 순환 한다."
   ]
  }
 ],
 "metadata": {
  "kernelspec": {
   "display_name": "Python 3 (ipykernel)",
   "language": "python",
   "name": "python3"
  },
  "language_info": {
   "codemirror_mode": {
    "name": "ipython",
    "version": 3
   },
   "file_extension": ".py",
   "mimetype": "text/x-python",
   "name": "python",
   "nbconvert_exporter": "python",
   "pygments_lexer": "ipython3",
   "version": "3.11.7"
  }
 },
 "nbformat": 4,
 "nbformat_minor": 5
}
