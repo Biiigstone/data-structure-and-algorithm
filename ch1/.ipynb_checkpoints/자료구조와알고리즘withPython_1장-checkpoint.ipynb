{
 "cells": [
  {
   "cell_type": "code",
   "execution_count": 2,
   "id": "f0f87ebe-4bf7-40b4-8a13-3382b72b8fbc",
   "metadata": {},
   "outputs": [],
   "source": [
    "# 리스트 사용하여 스택 구현해보기\n",
    "# capacity\n",
    "# push(e)\n",
    "# pop()\n",
    "# isFull()\n",
    "# isEmpty\n",
    "# peek()\n",
    "# size()\n"
   ]
  },
  {
   "cell_type": "code",
   "execution_count": 40,
   "id": "ece19d0d-1063-43b0-9283-549b0229b167",
   "metadata": {},
   "outputs": [],
   "source": [
    "capacity = 5\n",
    "\n",
    "def isFull(stack):\n",
    "    if len(stack) == capacity:\n",
    "        return True\n",
    "    else:\n",
    "        return False\n",
    "\n",
    "def isEmpty(stack):\n",
    "    if len(stack) == 0:\n",
    "        return True\n",
    "    else :\n",
    "        return False\n",
    "\n",
    "def push(stack, e):\n",
    "    # overflow 감지\n",
    "    if isFull(stack):\n",
    "        print('스택이 가득 찼습니다(overflow).')\n",
    "        return\n",
    "    stack.append(e)\n",
    "    return\n",
    "\n",
    "def pop(stack):\n",
    "    if isEmpty(stack):\n",
    "        print('스택이 비어있습니다(underflow).')\n",
    "        return\n",
    "    e = stack[-1]\n",
    "    del stack[-1]\n",
    "    return e\n",
    "\n",
    "def peek(stack):\n",
    "    if isEmpty(stack):\n",
    "        print('스택이 비어있습니다(underflow).')\n",
    "        return\n",
    "    e = stack[-1]\n",
    "    return e\n",
    "\n",
    "def size(stack):\n",
    "    return len(stack)\n",
    "\n",
    "def top(stack):\n",
    "    if isEmpty(stack):\n",
    "        print('스택이 비어있습니다(underflow).')\n",
    "        return\n",
    "    top_idx = size(stack) -1\n",
    "    return top_idx"
   ]
  },
  {
   "cell_type": "code",
   "execution_count": 20,
   "id": "01b4e704-7345-45a1-858e-0503e242617b",
   "metadata": {},
   "outputs": [
    {
     "name": "stdout",
     "output_type": "stream",
     "text": [
      "스택이 가득 차 있습니까? False\n",
      "스택이 비어있습니까? True\n"
     ]
    }
   ],
   "source": [
    "st = []\n",
    "\n",
    "print(f'스택이 가득 차 있습니까? {isFull(st)}')\n",
    "print(f'스택이 비어있습니까? {isEmpty(st)}')"
   ]
  },
  {
   "cell_type": "code",
   "execution_count": 21,
   "id": "00030691-7c0a-45d6-98ee-4bae542dbade",
   "metadata": {},
   "outputs": [],
   "source": [
    "push(st, 1)\n",
    "push(st, 2)\n",
    "push(st, 3)\n",
    "push(st, 4)\n",
    "push(st, 5)"
   ]
  },
  {
   "cell_type": "code",
   "execution_count": 22,
   "id": "6f208868-3c7f-4c29-bde5-52cccd20bedd",
   "metadata": {},
   "outputs": [
    {
     "name": "stdout",
     "output_type": "stream",
     "text": [
      "[1, 2, 3, 4, 5]\n"
     ]
    }
   ],
   "source": [
    "print(st)"
   ]
  },
  {
   "cell_type": "code",
   "execution_count": 23,
   "id": "93231d96-42d9-4220-bd32-431d14882df5",
   "metadata": {},
   "outputs": [
    {
     "name": "stdout",
     "output_type": "stream",
     "text": [
      "스택이 가득 찼습니다(overflow).\n"
     ]
    }
   ],
   "source": [
    "push(st, 6)"
   ]
  },
  {
   "cell_type": "code",
   "execution_count": 24,
   "id": "3753d581-6ba3-46d9-a294-2d0a6c039239",
   "metadata": {},
   "outputs": [
    {
     "name": "stdout",
     "output_type": "stream",
     "text": [
      "[1, 2, 3, 4, 5]\n"
     ]
    }
   ],
   "source": [
    "print(st)"
   ]
  },
  {
   "cell_type": "code",
   "execution_count": 25,
   "id": "53ebfe61-4c13-4f50-97de-1fe9a370bbf4",
   "metadata": {},
   "outputs": [
    {
     "name": "stdout",
     "output_type": "stream",
     "text": [
      "5\n",
      "[1, 2, 3, 4]\n"
     ]
    }
   ],
   "source": [
    "a = pop(st)\n",
    "print(a)\n",
    "print(st)\n"
   ]
  },
  {
   "cell_type": "code",
   "execution_count": 27,
   "id": "cf69d377-0ef3-4a72-8373-433af71c7d59",
   "metadata": {},
   "outputs": [
    {
     "name": "stdout",
     "output_type": "stream",
     "text": [
      "스택이 가득 차 있습니까? False\n",
      "스택이 비어있습니까? False\n"
     ]
    }
   ],
   "source": [
    "print(f'스택이 가득 차 있습니까? {isFull(st)}')\n",
    "print(f'스택이 비어있습니까? {isEmpty(st)}')"
   ]
  },
  {
   "cell_type": "code",
   "execution_count": 29,
   "id": "1d5998c6-e759-49ab-bd5d-f2b7af53c664",
   "metadata": {},
   "outputs": [
    {
     "name": "stdout",
     "output_type": "stream",
     "text": [
      "4\n",
      "[1, 2, 3, 4]\n"
     ]
    }
   ],
   "source": [
    "b = peek(st)\n",
    "print(b)\n",
    "print(st)"
   ]
  },
  {
   "cell_type": "code",
   "execution_count": 30,
   "id": "d1d9a1da-f604-46ed-b0dd-d21397f5294e",
   "metadata": {},
   "outputs": [
    {
     "data": {
      "text/plain": [
       "4"
      ]
     },
     "execution_count": 30,
     "metadata": {},
     "output_type": "execute_result"
    }
   ],
   "source": [
    "size(st)"
   ]
  },
  {
   "cell_type": "code",
   "execution_count": 31,
   "id": "e6fbfe74-b9c5-409e-af8c-3492ab4543eb",
   "metadata": {},
   "outputs": [
    {
     "name": "stdout",
     "output_type": "stream",
     "text": [
      "4\n",
      "3\n",
      "2\n",
      "1\n"
     ]
    }
   ],
   "source": [
    "for _ in range(size(st)):\n",
    "    e = pop(st)\n",
    "    print(e)"
   ]
  },
  {
   "cell_type": "code",
   "execution_count": 32,
   "id": "e00a3595-2b34-4449-93b3-b52d21d000a7",
   "metadata": {},
   "outputs": [
    {
     "name": "stdout",
     "output_type": "stream",
     "text": [
      "[]\n"
     ]
    }
   ],
   "source": [
    "print(st)"
   ]
  },
  {
   "cell_type": "code",
   "execution_count": 33,
   "id": "d9f7af4d-235a-4d10-be53-679c22b2e96b",
   "metadata": {},
   "outputs": [
    {
     "name": "stdout",
     "output_type": "stream",
     "text": [
      "스택이 비어있습니다(underflow).\n"
     ]
    }
   ],
   "source": [
    "pop(st)"
   ]
  },
  {
   "cell_type": "code",
   "execution_count": 36,
   "id": "749a4aff-e527-4be8-8a75-655e5126bf2f",
   "metadata": {},
   "outputs": [
    {
     "name": "stdout",
     "output_type": "stream",
     "text": [
      "[1, 2, 3, 66]\n"
     ]
    }
   ],
   "source": [
    "\n",
    "push(st, 1)\n",
    "push(st, 2)\n",
    "push(st, 3)\n",
    "push(st, 66)\n",
    "\n",
    "print(st)"
   ]
  },
  {
   "cell_type": "code",
   "execution_count": 37,
   "id": "606990f4-03ea-4617-bb47-64dc7657c332",
   "metadata": {},
   "outputs": [
    {
     "data": {
      "text/plain": [
       "3"
      ]
     },
     "execution_count": 37,
     "metadata": {},
     "output_type": "execute_result"
    }
   ],
   "source": [
    "top(st)"
   ]
  },
  {
   "cell_type": "code",
   "execution_count": 38,
   "id": "a0e17dfa-b4fa-4b53-b76e-a3c3c4b305ac",
   "metadata": {},
   "outputs": [
    {
     "data": {
      "text/plain": [
       "2"
      ]
     },
     "execution_count": 38,
     "metadata": {},
     "output_type": "execute_result"
    }
   ],
   "source": [
    "pop(st)\n",
    "pop(st)\n",
    "pop(st)"
   ]
  },
  {
   "cell_type": "code",
   "execution_count": 41,
   "id": "28663b4e-8db1-4148-9c31-647119b46dfa",
   "metadata": {},
   "outputs": [
    {
     "data": {
      "text/plain": [
       "0"
      ]
     },
     "execution_count": 41,
     "metadata": {},
     "output_type": "execute_result"
    }
   ],
   "source": [
    "top(st)"
   ]
  },
  {
   "cell_type": "code",
   "execution_count": 42,
   "id": "086c19e8-114e-4648-9b26-b75949900a2c",
   "metadata": {},
   "outputs": [
    {
     "data": {
      "text/plain": [
       "1"
      ]
     },
     "execution_count": 42,
     "metadata": {},
     "output_type": "execute_result"
    }
   ],
   "source": [
    "pop(st)\n"
   ]
  },
  {
   "cell_type": "code",
   "execution_count": 43,
   "id": "4415fe83-f715-4f70-ada1-a6ec24f49306",
   "metadata": {},
   "outputs": [
    {
     "name": "stdout",
     "output_type": "stream",
     "text": [
      "스택이 비어있습니다(underflow).\n"
     ]
    }
   ],
   "source": [
    "pop(st)"
   ]
  },
  {
   "cell_type": "code",
   "execution_count": 44,
   "id": "6ec0be2d-61b7-4528-a5be-63bedfcc62aa",
   "metadata": {},
   "outputs": [
    {
     "name": "stdout",
     "output_type": "stream",
     "text": [
      "스택이 비어있습니다(underflow).\n"
     ]
    }
   ],
   "source": [
    "top(st)"
   ]
  },
  {
   "cell_type": "code",
   "execution_count": 64,
   "id": "e1309b61-03bb-4759-88fe-b4558112af28",
   "metadata": {},
   "outputs": [],
   "source": [
    "# 책 예제 따라하기\n",
    "capacity = 10\n",
    "array = [None]*capacity\n",
    "global top\n",
    "top = -1\n",
    "\n",
    "def isEmpty():\n",
    "    if top == -1 :\n",
    "        return True\n",
    "    else :\n",
    "        return False\n",
    "\n",
    "def isFull():\n",
    "    return top == capacity -1\n",
    "\n",
    "def push(e):\n",
    "    if not isFull():\n",
    "        top += 1\n",
    "        array[top] = e\n",
    "    else:\n",
    "        print(\"stack overflow\")\n",
    "        exit()\n",
    "def pop():\n",
    "    if not isEmpty():\n",
    "        top -= 1\n",
    "        return array[top+1]\n",
    "    else :\n",
    "        print(\"stack underflow\")\n",
    "        exit()\n",
    "\n",
    "def peek():\n",
    "    if not isEmpty():\n",
    "        return array[top]\n",
    "    else:\n",
    "        print(\"SU\")\n",
    "        exit()\n",
    "\n",
    "def size():\n",
    "    return top+1\n"
   ]
  },
  {
   "cell_type": "code",
   "execution_count": 2,
   "id": "b6c532fb-9f33-435e-adb3-e63f2f09d003",
   "metadata": {},
   "outputs": [],
   "source": [
    "# 클래스로 만들기\n",
    "\n",
    "class ArrayStack :\n",
    "    def __init__(self, capacity):\n",
    "        self.capacity = capacity\n",
    "        self.array = [None] * self.capacity\n",
    "        self.top = -1\n",
    "\n",
    "    def __str__(self):\n",
    "        print(self.array)\n",
    "    \n",
    "    def isEmpty(self):\n",
    "        if self.top == -1 :\n",
    "            return True\n",
    "        else :\n",
    "            return False\n",
    "\n",
    "    def isFull(self):\n",
    "        return self.top == self.capacity -1\n",
    "\n",
    "    def push(self, e):\n",
    "        if not self.isFull():\n",
    "            self.top += 1\n",
    "            self.array[self.top] = e\n",
    "        else:\n",
    "            print(\"stack overflow\")\n",
    "            exit()\n",
    "            \n",
    "    def pop(self):\n",
    "        if not self.isEmpty():\n",
    "            self.top -= 1\n",
    "            return self.array[self.top+1]\n",
    "        else :\n",
    "            print(\"stack underflow\")\n",
    "            return None\n",
    "    \n",
    "    def peek(self):\n",
    "        if not self.isEmpty():\n",
    "            return self.array[self.top]\n",
    "        else:\n",
    "            print(\"SU\")\n",
    "            exit()\n",
    "    \n",
    "    def size(self):\n",
    "        return self.top+1"
   ]
  },
  {
   "cell_type": "code",
   "execution_count": 21,
   "id": "c4f0b08e-697b-416f-98e0-368001fd621d",
   "metadata": {},
   "outputs": [],
   "source": [
    "st1 = ArrayStack(10)\n",
    "msg = \"안녕하세요!\"\n",
    "for c in msg:\n",
    "    st1.push(c)\n",
    "    "
   ]
  },
  {
   "cell_type": "code",
   "execution_count": 22,
   "id": "68270e2b-2f02-4c26-9e5f-a23e342a5906",
   "metadata": {},
   "outputs": [
    {
     "name": "stdout",
     "output_type": "stream",
     "text": [
      "!요세하녕안"
     ]
    }
   ],
   "source": [
    "while not st1.isEmpty():\n",
    "    print(st1.pop(), end='')"
   ]
  },
  {
   "cell_type": "code",
   "execution_count": 23,
   "id": "eca842f1-ef29-461f-a507-302c393d549c",
   "metadata": {},
   "outputs": [
    {
     "name": "stdout",
     "output_type": "stream",
     "text": [
      "조건3 위배 : 다른 종류의 괄호 쌍이 나옴 : []\n",
      "조건 1 위배 : 괄호의 개수가 다름\n"
     ]
    }
   ],
   "source": [
    "# 괄호 검사 문제\n",
    "# 올바른 괄호 사용 조건?\n",
    "# 1. 왼쪽 괄호의 개수와 오른쪽 괄호의 개수가 같아야 한다.\n",
    "# 2. 같은 종류인 경우 왼쪽 괄호가 오른쪽보다 먼저 나와야 한다.\n",
    "# 3. 다른 종류의 괄호 쌍이 서로 교차하면 안됩니다. ex : [(]) << 이러한 경우 오류.\n",
    "\n",
    "# 괄호 검사 문제 - 알고리즘을 직접 코드화 해보기\n",
    "# 1. 빈 스택을 준비합니다\n",
    "# 2. 입력된 문자를 하나씩 읽어 왼쪽 괄호를 만나면 스택에 삽입합니다.\n",
    "# 3. 오른쪽 괄호를 만나면 가장최근에 삽입된 괄호를 스택에서 꺼냅니다. \n",
    "# 이때, 스택이 비었다면 오른쪽 괄호가 먼저 나온 상황이므로 조건 2에 위배됩니다.\n",
    "# 4. 꺼낸 괄호가 오른쪽 괄호와 짝이 맞지 않는다면 조건 3에 위배됩니다.\n",
    "# 5. 입력 문자열을 끝까지 처리했는데 스택에 괄호가 남아 있으면 괄호의 개수가 같지 않으므로 조건 1에 위배됩니다.\n",
    "# 6. 모든 문자를 처리하고 스택이 공백 상태이면 검사 성공입니다.\n",
    "\n",
    "st2 = ArrayStack(100)\n",
    "msg = '[(])'\n",
    "for c in msg:\n",
    "    if c == '(' or c == '{' or c == '[':\n",
    "        st2.push(c)\n",
    "    if c == ')' or c == '}' or c ==']':\n",
    "        e = st2.pop()\n",
    "        if e == None:\n",
    "            print(\"조건2 위배 : 오른쪽 괄호가 먼저 나옴.\")\n",
    "            break\n",
    "        if c == ')':\n",
    "            if e == '(':\n",
    "                print()\n",
    "            else : \n",
    "                print('조건3 위배 : 다른 종류의 괄호 쌍이 나옴 : ()')\n",
    "                break\n",
    "        if c == '}':\n",
    "            if e == '{':\n",
    "                print()\n",
    "            else :\n",
    "                print('조건3 위배 : 다른 종류의 괄호 쌍이 나옴 : {}')\n",
    "                break\n",
    "        if c == ']':\n",
    "            if e == '[':\n",
    "                print()\n",
    "            else:\n",
    "                print('조건3 위배 : 다른 종류의 괄호 쌍이 나옴 : []')\n",
    "                break\n",
    "if st2.isEmpty():\n",
    "    print('검사 성공')\n",
    "else :\n",
    "    print('조건 1 위배 : 괄호의 개수가 다름')\n",
    "\n",
    "            "
   ]
  },
  {
   "cell_type": "code",
   "execution_count": 28,
   "id": "0eb8a787-0941-432b-aba0-9116365f1078",
   "metadata": {},
   "outputs": [],
   "source": [
    "def checkBrackets(statement):\n",
    "    stack = ArrayStack(100)\n",
    "    for ch in statement:\n",
    "        if ch in ('{', '[', '('):\n",
    "            stack.push(ch) # 여는 괄호면 push\n",
    "        elif ch in ('}',']',')'): # 닫는 괄호면 pop해서 이전 괄호와 대조\n",
    "            if stack.isEmpty():\n",
    "                print('조건2위반')\n",
    "                return False # 조건 2 위반\n",
    "            else :\n",
    "                left = stack.pop()\n",
    "                if (ch == '}' and left != '{') or \\\n",
    "                (ch == ']' and left != '[') or \\\n",
    "                (ch == ')' and left != '('):\n",
    "                    print('조건3위반')\n",
    "                    return False # 조건 3위반\n",
    "    return stack.isEmpty() # 공백이 아니면 조건 1을 위반한 경우(=False)."
   ]
  },
  {
   "cell_type": "code",
   "execution_count": 29,
   "id": "cdda421a-8b08-4a7c-b7c8-4fa20eee9100",
   "metadata": {},
   "outputs": [
    {
     "data": {
      "text/plain": [
       "True"
      ]
     },
     "execution_count": 29,
     "metadata": {},
     "output_type": "execute_result"
    }
   ],
   "source": [
    "checkBrackets('{[()]}')"
   ]
  },
  {
   "cell_type": "code",
   "execution_count": 30,
   "id": "d2b139d1-6f33-45aa-b062-e952650e9890",
   "metadata": {},
   "outputs": [
    {
     "name": "stdout",
     "output_type": "stream",
     "text": [
      "조건2위반\n"
     ]
    },
    {
     "data": {
      "text/plain": [
       "False"
      ]
     },
     "execution_count": 30,
     "metadata": {},
     "output_type": "execute_result"
    }
   ],
   "source": [
    "checkBrackets('()){}')"
   ]
  },
  {
   "cell_type": "code",
   "execution_count": 31,
   "id": "16bd50c3-f831-4a73-bd3e-9b648d524816",
   "metadata": {},
   "outputs": [
    {
     "data": {
      "text/plain": [
       "False"
      ]
     },
     "execution_count": 31,
     "metadata": {},
     "output_type": "execute_result"
    }
   ],
   "source": [
    "checkBrackets('(()()')"
   ]
  },
  {
   "cell_type": "code",
   "execution_count": 32,
   "id": "4032c5d5-1e60-4432-8749-dc52d50b99b0",
   "metadata": {},
   "outputs": [
    {
     "name": "stdout",
     "output_type": "stream",
     "text": [
      "조건3위반\n"
     ]
    },
    {
     "data": {
      "text/plain": [
       "False"
      ]
     },
     "execution_count": 32,
     "metadata": {},
     "output_type": "execute_result"
    }
   ],
   "source": [
    "checkBrackets('[(])')"
   ]
  },
  {
   "cell_type": "code",
   "execution_count": null,
   "id": "cda51e4c-5bf0-4463-b9bc-c307a8c61361",
   "metadata": {},
   "outputs": [],
   "source": []
  }
 ],
 "metadata": {
  "kernelspec": {
   "display_name": "Python 3 (ipykernel)",
   "language": "python",
   "name": "python3"
  },
  "language_info": {
   "codemirror_mode": {
    "name": "ipython",
    "version": 3
   },
   "file_extension": ".py",
   "mimetype": "text/x-python",
   "name": "python",
   "nbconvert_exporter": "python",
   "pygments_lexer": "ipython3",
   "version": "3.11.7"
  }
 },
 "nbformat": 4,
 "nbformat_minor": 5
}
